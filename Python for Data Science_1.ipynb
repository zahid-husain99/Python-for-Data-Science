{
 "cells": [
  {
   "cell_type": "markdown",
   "id": "c369e1ff",
   "metadata": {},
   "source": [
    "What is Python?\n",
    "\n",
    "Python is a high-level, interpreted, and general-purpose programming language. It was created by Guido van Rossum and first released in 1991. Python emphasizes code readability, and its syntax allows programmers to express concepts in fewer lines of code than languages like C++ or Java."
   ]
  },
  {
   "cell_type": "markdown",
   "id": "2f97fa92",
   "metadata": {},
   "source": [
    "1.\tPython is a case-sensitive language.\n",
    "    'Variable' and 'variable' are treated as two different identifiers.\n",
    "\n",
    "2.\tPython is an interpreted language.\n",
    "    It runs code line by line using an interpreter, not a compiler.\n",
    "\n",
    "3.\tPython is a dynamically typed language.\n",
    "    We don't need to declare the type of a variable explicitly.\n",
    "\n",
    "4.\tPython supports object-oriented programming.\n",
    "    You can define classes, objects, inheritance, and more.\n",
    "\n",
    "5.\tPython uses indentation to define blocks of code.\n",
    "    Curly braces {} are not used; proper indentation is crucial.\n",
    "\n",
    "6.\tPython is open-source and free to use.\n",
    "    Anyone can download, use, and modify the source code.\n",
    "\n",
    "7.\tPython supports multiple programming paradigms.\n",
    "    It supports procedural, object-oriented, and functional programming.\n",
    "\n",
    "8.\tPython has a large standard library.\n",
    "    It includes modules for web, file handling, regular expressions, and more.\n",
    "\n",
    "9.\tPython uses garbage collection for memory management.\n",
    "    Unused memory is automatically cleaned up.\n",
    "\n",
    "10.\tPython code is easy to read and write.\n",
    "    It emphasizes readability with a clean and straightforward syntax\n"
   ]
  },
  {
   "cell_type": "markdown",
   "id": "6ab4c2ec",
   "metadata": {},
   "source": [
    "print() Function in Python\n",
    "\n",
    "The print() function in Python is used to display output on the screen (usually the console). \n",
    "It sends the data you provide to the standard output stream.\n"
   ]
  },
  {
   "cell_type": "markdown",
   "id": "e1bcb3d7",
   "metadata": {},
   "source": [
    "Syntax-\n",
    "\n",
    "print(object1, object2, ..., sep=' ', end='\\n', file=sys.stdout, flush=False)"
   ]
  },
  {
   "cell_type": "code",
   "execution_count": 1,
   "id": "d15622ef",
   "metadata": {},
   "outputs": [
    {
     "name": "stdout",
     "output_type": "stream",
     "text": [
      "Hello, world!\n"
     ]
    }
   ],
   "source": [
    "print(\"Hello, world!\")"
   ]
  },
  {
   "cell_type": "code",
   "execution_count": 2,
   "id": "7369e7da",
   "metadata": {},
   "outputs": [
    {
     "name": "stdout",
     "output_type": "stream",
     "text": [
      "hello world\n"
     ]
    }
   ],
   "source": [
    "print('hello', 'world')"
   ]
  },
  {
   "cell_type": "code",
   "execution_count": 4,
   "id": "63a7c61a",
   "metadata": {},
   "outputs": [
    {
     "name": "stdout",
     "output_type": "stream",
     "text": [
      "Data_Science_Rocks\n"
     ]
    }
   ],
   "source": [
    "print(\"Data\", \"Science\", \"Rocks\", sep=\"_\")"
   ]
  },
  {
   "cell_type": "code",
   "execution_count": 5,
   "id": "21017330",
   "metadata": {},
   "outputs": [
    {
     "name": "stdout",
     "output_type": "stream",
     "text": [
      "Data is new fuel & It helps in decision making\n"
     ]
    }
   ],
   "source": [
    "print('Data is new fuel', end=' & ')\n",
    "print('It helps in decision making')"
   ]
  },
  {
   "cell_type": "code",
   "execution_count": 6,
   "id": "cf5ff7ee",
   "metadata": {},
   "outputs": [
    {
     "name": "stdout",
     "output_type": "stream",
     "text": [
      "Data is new fuel\n",
      "It helps in decision making\n"
     ]
    }
   ],
   "source": [
    "print('Data is new fuel')\n",
    "print('It helps in decision making')"
   ]
  },
  {
   "cell_type": "code",
   "execution_count": 7,
   "id": "5d25c204",
   "metadata": {},
   "outputs": [
    {
     "name": "stdout",
     "output_type": "stream",
     "text": [
      "Loading...Done!\n"
     ]
    }
   ],
   "source": [
    "print(\"Loading\", end=\"...\")\n",
    "print(\"Done!\")"
   ]
  },
  {
   "cell_type": "code",
   "execution_count": 8,
   "id": "4d53f548",
   "metadata": {},
   "outputs": [
    {
     "name": "stdout",
     "output_type": "stream",
     "text": [
      "My name is Alice and I am 25 years old.\n"
     ]
    }
   ],
   "source": [
    "# format output inside print()\n",
    "name = \"Alice\"\n",
    "age = 25\n",
    "print(f\"My name is {name} and I am {age} years old.\")"
   ]
  },
  {
   "cell_type": "code",
   "execution_count": 10,
   "id": "8762436d",
   "metadata": {},
   "outputs": [
    {
     "name": "stdout",
     "output_type": "stream",
     "text": [
      "Hello\n"
     ]
    }
   ],
   "source": [
    "print('Hello')"
   ]
  },
  {
   "cell_type": "code",
   "execution_count": 11,
   "id": "4f3827cb",
   "metadata": {},
   "outputs": [
    {
     "name": "stdout",
     "output_type": "stream",
     "text": [
      "Hello/16/41.5/False\n"
     ]
    }
   ],
   "source": [
    "print('Hello',16,41.5,False,sep='/')"
   ]
  },
  {
   "cell_type": "markdown",
   "id": "ec12d24c",
   "metadata": {},
   "source": [
    "Data Type"
   ]
  },
  {
   "cell_type": "markdown",
   "id": "fe269751",
   "metadata": {},
   "source": [
    "In Python, data types define the type of value a variable can hold. Python is dynamically typed, so the interpreter assigns the type automatically.\n",
    "\n",
    "Data Type\t    Description \n",
    "int\t            Integer numbers (whole numbers)\n",
    "float\t        Decimal (floating-point) numbers\n",
    "complex\t        Complex numbers with real and imaginary parts\n",
    "str\t            Text (string of characters)\n",
    "bool\t        Boolean values: True or False\n",
    "list\t        Ordered, mutable collection of items\n",
    "tuple\t        Ordered, immutable collection of items\n",
    "set\t            Unordered, unique collection of items\n",
    "dict\t        Key-value pairs (dictionary or map)\n",
    "NoneType\t    Represents the absence of a value (None)"
   ]
  },
  {
   "cell_type": "code",
   "execution_count": null,
   "id": "615f31ee",
   "metadata": {},
   "outputs": [],
   "source": [
    "# type function\n",
    "# to check the type of a variable or object."
   ]
  },
  {
   "cell_type": "code",
   "execution_count": 12,
   "id": "0338b316",
   "metadata": {},
   "outputs": [
    {
     "name": "stdout",
     "output_type": "stream",
     "text": [
      "<class 'int'>\n"
     ]
    }
   ],
   "source": [
    "# int (Integer)\n",
    "x = 10\n",
    "print(type(x))"
   ]
  },
  {
   "cell_type": "code",
   "execution_count": 13,
   "id": "081863d8",
   "metadata": {},
   "outputs": [
    {
     "name": "stdout",
     "output_type": "stream",
     "text": [
      "<class 'float'>\n"
     ]
    }
   ],
   "source": [
    "# float\n",
    "pi = 3.14\n",
    "print(type(pi))"
   ]
  },
  {
   "cell_type": "code",
   "execution_count": 14,
   "id": "1701ddc4",
   "metadata": {},
   "outputs": [
    {
     "name": "stdout",
     "output_type": "stream",
     "text": [
      "<class 'complex'>\n"
     ]
    }
   ],
   "source": [
    "# complex (Complex Number)\n",
    "# Used for scientific or mathematical calculations with real and imaginary parts.\n",
    "\n",
    "z = 2 + 3j\n",
    "print(type(z))"
   ]
  },
  {
   "cell_type": "code",
   "execution_count": 15,
   "id": "72f9ca45",
   "metadata": {},
   "outputs": [
    {
     "name": "stdout",
     "output_type": "stream",
     "text": [
      "<class 'str'>\n"
     ]
    }
   ],
   "source": [
    "# str (String)\n",
    "name = \"Python\"\n",
    "print(type(name))"
   ]
  },
  {
   "cell_type": "code",
   "execution_count": 17,
   "id": "14e25bc0",
   "metadata": {},
   "outputs": [
    {
     "name": "stdout",
     "output_type": "stream",
     "text": [
      "<class 'str'>\n"
     ]
    }
   ],
   "source": [
    "x = '5'\n",
    "print(type(x))"
   ]
  },
  {
   "cell_type": "code",
   "execution_count": 20,
   "id": "25448267",
   "metadata": {},
   "outputs": [
    {
     "name": "stdout",
     "output_type": "stream",
     "text": [
      "<class 'bool'>\n"
     ]
    }
   ],
   "source": [
    "# bool (Boolean)\n",
    "# Logical values, either True or False.\n",
    "\n",
    "is_valid = True\n",
    "print(type(is_valid))"
   ]
  },
  {
   "cell_type": "code",
   "execution_count": 21,
   "id": "2df91406",
   "metadata": {},
   "outputs": [
    {
     "name": "stdout",
     "output_type": "stream",
     "text": [
      "<class 'list'>\n"
     ]
    }
   ],
   "source": [
    "# List\n",
    "# Ordered, mutable collection. Can hold different types.\n",
    "fruits = [\"apple\", \"banana\", \"cherry\"]\n",
    "print(type(fruits))"
   ]
  },
  {
   "cell_type": "code",
   "execution_count": 23,
   "id": "ee5bee89",
   "metadata": {},
   "outputs": [
    {
     "name": "stdout",
     "output_type": "stream",
     "text": [
      "<class 'tuple'>\n"
     ]
    }
   ],
   "source": [
    "# Tuple\n",
    "# Ordered, immutable collection.\n",
    "\n",
    "coordinates = (10, 20)\n",
    "print(type(coordinates))"
   ]
  },
  {
   "cell_type": "code",
   "execution_count": 24,
   "id": "f9d0ee40",
   "metadata": {},
   "outputs": [
    {
     "name": "stdout",
     "output_type": "stream",
     "text": [
      "<class 'set'>\n"
     ]
    }
   ],
   "source": [
    "# Set\n",
    "# Unordered collection of unique elements.\n",
    "unique_numbers = {1, 2, 3}\n",
    "print(type(unique_numbers))"
   ]
  },
  {
   "cell_type": "code",
   "execution_count": 25,
   "id": "490919c7",
   "metadata": {},
   "outputs": [
    {
     "name": "stdout",
     "output_type": "stream",
     "text": [
      "<class 'dict'>\n"
     ]
    }
   ],
   "source": [
    "# Dictionary\n",
    "# Unordered collection of key-value pairs.\n",
    "person = {\"name\": \"Alice\", \"age\": 25}\n",
    "print(type(person))\n"
   ]
  },
  {
   "cell_type": "code",
   "execution_count": 26,
   "id": "7d520084",
   "metadata": {},
   "outputs": [
    {
     "name": "stdout",
     "output_type": "stream",
     "text": [
      "<class 'NoneType'>\n"
     ]
    }
   ],
   "source": [
    "# NoneType\n",
    "# Represents a null or no value\n",
    "x = None\n",
    "print(type(x))\n"
   ]
  },
  {
   "cell_type": "markdown",
   "id": "9ff688db",
   "metadata": {},
   "source": [
    "# Variable"
   ]
  },
  {
   "cell_type": "markdown",
   "id": "de1c95d4",
   "metadata": {},
   "source": [
    "A variable is a name that refers to a value stored in memory. It acts as a label to access and manipulate data in a program.\n",
    "\n",
    "Python is dynamically typed, so we don’t need to declare the type of a variable — Python figures it out at runtime."
   ]
  },
  {
   "cell_type": "code",
   "execution_count": null,
   "id": "ecb28d65",
   "metadata": {},
   "outputs": [],
   "source": [
    "x = 10             # int\n",
    "name = \"Python\"    # str\n",
    "price = 99.99      # float\n",
    "is_valid = True    # bool"
   ]
  },
  {
   "cell_type": "markdown",
   "id": "5c33dea1",
   "metadata": {},
   "source": [
    "Rules for Naming Variables:\n",
    "\n",
    "Must start with a letter or underscore _\t\n",
    "Cannot start with a digit\t\n",
    "Can contain letters, numbers, underscores\t\n",
    "Case-sensitive\t\n",
    "Cannot use Python keywords"
   ]
  },
  {
   "cell_type": "code",
   "execution_count": 1,
   "id": "bea85517",
   "metadata": {},
   "outputs": [
    {
     "name": "stdout",
     "output_type": "stream",
     "text": [
      "5\n",
      "<class 'int'>\n",
      "Alice\n",
      "<class 'str'>\n"
     ]
    }
   ],
   "source": [
    "# Dynamic Typing\n",
    "a = 5\n",
    "print(a)\n",
    "print(type(a))\n",
    "\n",
    "b = 'Alice'\n",
    "print(b)\n",
    "print(type(b))"
   ]
  },
  {
   "cell_type": "code",
   "execution_count": 2,
   "id": "99deaccc",
   "metadata": {},
   "outputs": [
    {
     "name": "stdout",
     "output_type": "stream",
     "text": [
      "10\n",
      "Now I'm a string\n"
     ]
    }
   ],
   "source": [
    "# Variable Reassignment: (Dynamic Binding)\n",
    "# Python allows us to change the value (and type) of a variable at any time.\n",
    "\n",
    "x = 10\n",
    "print(x)\n",
    "\n",
    "x = \"Now I'm a string\"\n",
    "print(x)"
   ]
  },
  {
   "cell_type": "code",
   "execution_count": 3,
   "id": "d5145cb2",
   "metadata": {},
   "outputs": [
    {
     "name": "stdout",
     "output_type": "stream",
     "text": [
      "100 100 100\n",
      "1 2 3\n"
     ]
    }
   ],
   "source": [
    "# Multiple Assignments:\n",
    "\n",
    "a = b = c = 100         # All variables get the same value\n",
    "x, y, z = 1, 2, 3       # Multiple variables with different values\n",
    "\n",
    "print(a, b, c)\n",
    "print(x, y, z)"
   ]
  },
  {
   "cell_type": "markdown",
   "id": "cda78fa9",
   "metadata": {},
   "source": [
    "Types of Variables\n",
    "\n",
    "Global Variables\n",
    "Local Variables"
   ]
  },
  {
   "cell_type": "markdown",
   "id": "20a5b972",
   "metadata": {},
   "source": [
    "Best Practices for Using Variables\n",
    "\n",
    "Use descriptive names: score, user_name, total_price.\n",
    "Avoid single-letter names like x, y unless in loops or math.\n",
    "Stick to snake_case for variable names (PEP 8 style guide).\n",
    "Don’t use Python keywords or built-in function names as variable names."
   ]
  },
  {
   "cell_type": "code",
   "execution_count": null,
   "id": "39fb9968",
   "metadata": {},
   "outputs": [],
   "source": [
    "# camelCase\n",
    "# userName, userProfile, customerService"
   ]
  },
  {
   "cell_type": "markdown",
   "id": "a1df6406",
   "metadata": {},
   "source": [
    "# Comments"
   ]
  },
  {
   "cell_type": "markdown",
   "id": "be61860e",
   "metadata": {},
   "source": [
    "Comments are lines in the code that are ignored by the Python interpreter. They are written for humans — to explain what the code is doing.\n",
    "\n",
    "They don’t affect the program’s execution but are super helpful for\n",
    "Explaining code logic.\n",
    "Leaving notes or TODOs.\n",
    "Temporarily disabling code.\n",
    "Making our code more readable and maintainable."
   ]
  },
  {
   "cell_type": "code",
   "execution_count": 6,
   "id": "400e674f",
   "metadata": {},
   "outputs": [
    {
     "name": "stdout",
     "output_type": "stream",
     "text": [
      "10\n"
     ]
    }
   ],
   "source": [
    "# ctrl + forward slash(/)\n",
    "# This is a comment\n",
    "# Second line\n",
    "a = 4 # comment in same line\n",
    "b = 6 \n",
    "c = a + b\n",
    "# this will add two numbers\n",
    "print(c)"
   ]
  },
  {
   "cell_type": "code",
   "execution_count": null,
   "id": "cd9757c7",
   "metadata": {},
   "outputs": [],
   "source": [
    "a = b = c = 10"
   ]
  },
  {
   "cell_type": "markdown",
   "id": "284069e6",
   "metadata": {},
   "source": [
    "Keywords"
   ]
  },
  {
   "cell_type": "markdown",
   "id": "a9f48b45",
   "metadata": {},
   "source": [
    "Keywords are reserved words in Python that have special meanings and cannot be used as variable names, function names, or identifiers.\n",
    "\n",
    "They are the building blocks of Python syntax."
   ]
  },
  {
   "cell_type": "code",
   "execution_count": 7,
   "id": "aa566713",
   "metadata": {},
   "outputs": [
    {
     "name": "stdout",
     "output_type": "stream",
     "text": [
      "['False', 'None', 'True', 'and', 'as', 'assert', 'async', 'await', 'break', 'class', 'continue', 'def', 'del', 'elif', 'else', 'except', 'finally', 'for', 'from', 'global', 'if', 'import', 'in', 'is', 'lambda', 'nonlocal', 'not', 'or', 'pass', 'raise', 'return', 'try', 'while', 'with', 'yield']\n"
     ]
    }
   ],
   "source": [
    "# To See All Python Keywords\n",
    "\n",
    "import keyword\n",
    "print(keyword.kwlist)\n"
   ]
  },
  {
   "cell_type": "markdown",
   "id": "08c3c4d6",
   "metadata": {},
   "source": [
    "List of Common Python Keywords\n",
    "\n",
    "Keyword\t    Meaning / Use\n",
    "\n",
    "False\t    Boolean false value\n",
    "True\t    Boolean true value\n",
    "None\t    Represents no value / null\n",
    "and\t        Logical AND\n",
    "or\t        Logical OR\n",
    "not\t        Logical NOT\n",
    "if\t        Conditional statement\n",
    "elif\t    Else if\n",
    "else\t    Alternative condition\n",
    "while\t    While loop\n",
    "for\t        For loop\n",
    "break\t    Exit from loop\n",
    "continue\tSkip to next loop iteration\n",
    "pass\t    Do nothing (empty block)\n",
    "def\t        Define a function\n",
    "return\t    Return value from a function\n",
    "yield\t    Return value from a generator\n",
    "import\t    Import a module\n",
    "from\t    Import specific part of module\n",
    "as\t        Rename imported module/alias\n",
    "class\t    Define a class\n",
    "try\t        Start a try block for error handling\n",
    "except\t    Handle an exception\n",
    "finally\t    Code that always runs after try-except\n",
    "raise\t    Raise an exception\n",
    "in\t        Check membership\n",
    "is\t        Check identity\n",
    "lambda\t    Create anonymous function\n",
    "global\t    Declare a global variable inside function\n",
    "nonlocal\tDeclare non-local (enclosing scope) variable\n",
    "del\t        Delete a variable or object\n",
    "assert\t    Debugging tool — test a condition\n",
    "with\t    Context manager (e.g. file handling)\n",
    "async\t    Define asynchronous function\n",
    "await\t    Pause execution inside async function"
   ]
  },
  {
   "cell_type": "code",
   "execution_count": 10,
   "id": "03330fcf",
   "metadata": {},
   "outputs": [
    {
     "ename": "SyntaxError",
     "evalue": "invalid syntax (1315404914.py, line 1)",
     "output_type": "error",
     "traceback": [
      "\u001b[1;36m  Cell \u001b[1;32mIn[10], line 1\u001b[1;36m\u001b[0m\n\u001b[1;33m    if = 10  #SyntaxError\u001b[0m\n\u001b[1;37m       ^\u001b[0m\n\u001b[1;31mSyntaxError\u001b[0m\u001b[1;31m:\u001b[0m invalid syntax\n"
     ]
    }
   ],
   "source": [
    "if = 10  #SyntaxError"
   ]
  },
  {
   "cell_type": "code",
   "execution_count": 12,
   "id": "4c3c7bb1",
   "metadata": {},
   "outputs": [
    {
     "name": "stdout",
     "output_type": "stream",
     "text": [
      "10\n"
     ]
    }
   ],
   "source": [
    "if_condition = 10  # Valid\n",
    "print(if_condition)"
   ]
  },
  {
   "cell_type": "markdown",
   "id": "bc03fad5",
   "metadata": {},
   "source": [
    "Identifiers-\n",
    "\n",
    "An identifier is the name used to identify a variable, function, class, module, or object.\n",
    "It acts like a label you assign to something so you can refer to it later in your code."
   ]
  },
  {
   "cell_type": "code",
   "execution_count": null,
   "id": "6d3159b2",
   "metadata": {},
   "outputs": [],
   "source": [
    "name = \"Alice\"         # 'name' is an identifier\n",
    "def greet():           # 'greet' is a function identifier\n",
    "class Student:         # 'Student' is a class identifier\n",
    "    pass"
   ]
  },
  {
   "cell_type": "markdown",
   "id": "dcb85815",
   "metadata": {},
   "source": [
    "# User Input"
   ]
  },
  {
   "cell_type": "markdown",
   "id": "f8b6c781",
   "metadata": {},
   "source": [
    "User input allows our Python program to accept data from the user during program execution.\n",
    "We use the built-in input() function for this."
   ]
  },
  {
   "cell_type": "code",
   "execution_count": 1,
   "id": "9654fbea",
   "metadata": {},
   "outputs": [],
   "source": [
    "variable = input(\"Prompt message\")"
   ]
  },
  {
   "cell_type": "code",
   "execution_count": 2,
   "id": "52a5580d",
   "metadata": {},
   "outputs": [
    {
     "name": "stdout",
     "output_type": "stream",
     "text": [
      "Hello, Alice\n"
     ]
    }
   ],
   "source": [
    "name = input(\"Enter your name: \")\n",
    "print(\"Hello,\", name)"
   ]
  },
  {
   "cell_type": "code",
   "execution_count": 6,
   "id": "0c9a28ab",
   "metadata": {},
   "outputs": [
    {
     "name": "stdout",
     "output_type": "stream",
     "text": [
      "100\n"
     ]
    }
   ],
   "source": [
    "# Add two numbers given by the user\n",
    "first_num = input()\n",
    "second_num = input('enter second number')\n",
    "total = int(first_num) + int(second_num)\n",
    "print(total)"
   ]
  },
  {
   "cell_type": "code",
   "execution_count": 10,
   "id": "6bccffee",
   "metadata": {},
   "outputs": [
    {
     "name": "stdout",
     "output_type": "stream",
     "text": [
      "You will be 11 next year.\n"
     ]
    }
   ],
   "source": [
    "age = int(input(\"Enter your age: \"))\n",
    "print(\"You will be\", age + 1, \"next year.\")"
   ]
  },
  {
   "cell_type": "code",
   "execution_count": 12,
   "id": "8b6a042f",
   "metadata": {},
   "outputs": [
    {
     "ename": "ValueError",
     "evalue": "invalid literal for int() with base 10: 'fg'",
     "output_type": "error",
     "traceback": [
      "\u001b[1;31m---------------------------------------------------------------------------\u001b[0m",
      "\u001b[1;31mValueError\u001b[0m                                Traceback (most recent call last)",
      "Cell \u001b[1;32mIn[12], line 1\u001b[0m\n\u001b[1;32m----> 1\u001b[0m num \u001b[38;5;241m=\u001b[39m \u001b[38;5;28;43mint\u001b[39;49m\u001b[43m(\u001b[49m\u001b[38;5;28;43minput\u001b[39;49m\u001b[43m(\u001b[49m\u001b[38;5;124;43m\"\u001b[39;49m\u001b[38;5;124;43mEnter a number: \u001b[39;49m\u001b[38;5;124;43m\"\u001b[39;49m\u001b[43m)\u001b[49m\u001b[43m)\u001b[49m\n",
      "\u001b[1;31mValueError\u001b[0m: invalid literal for int() with base 10: 'fg'"
     ]
    }
   ],
   "source": [
    "num = int(input(\"Enter a number: \"))"
   ]
  },
  {
   "cell_type": "markdown",
   "id": "861e8105",
   "metadata": {},
   "source": [
    "# Type Conversion"
   ]
  },
  {
   "cell_type": "markdown",
   "id": "500c1269",
   "metadata": {},
   "source": [
    "Type Conversion means changing the data type of a value from one type to another.\n",
    "\n",
    "There are two main types:\n",
    "\n",
    "Implicit Type Conversion – Python does it automatically\n",
    "Explicit Type Conversion – We do it manually"
   ]
  },
  {
   "cell_type": "code",
   "execution_count": 14,
   "id": "4d313893",
   "metadata": {},
   "outputs": [
    {
     "name": "stdout",
     "output_type": "stream",
     "text": [
      "30.0\n"
     ]
    }
   ],
   "source": [
    "a = '10'\n",
    "b = '20'\n",
    "\n",
    "c = float(a) + float(b)\n",
    "print(c)"
   ]
  },
  {
   "cell_type": "code",
   "execution_count": 15,
   "id": "c33ef829",
   "metadata": {},
   "outputs": [
    {
     "name": "stdout",
     "output_type": "stream",
     "text": [
      "15.5\n",
      "<class 'float'>\n"
     ]
    }
   ],
   "source": [
    "# Implicit Type Conversion (Automatic)\n",
    "\n",
    "a = 10       # int\n",
    "b = 5.5      # float\n",
    "result = a + b\n",
    "\n",
    "print(result)        # 15.5 (float)\n",
    "print(type(result))  # <class 'float'>"
   ]
  },
  {
   "cell_type": "markdown",
   "id": "464201e7",
   "metadata": {},
   "source": [
    "Explicit Type Conversion (Manual)\n",
    "\n",
    "We use built-in functions to convert between types:\n",
    "\n",
    "Function\tConverts to\n",
    "int()\t    Integer\n",
    "float()\t    Float\n",
    "str()\t    String\n",
    "bool()\t    Boolean\n",
    "list()\t    List\n",
    "tuple()\t    Tuple\n",
    "set()\t    Set\n",
    "\n"
   ]
  },
  {
   "cell_type": "code",
   "execution_count": 19,
   "id": "1a9315d1",
   "metadata": {},
   "outputs": [
    {
     "ename": "ValueError",
     "evalue": "invalid literal for int() with base 10: 'abc'",
     "output_type": "error",
     "traceback": [
      "\u001b[1;31m---------------------------------------------------------------------------\u001b[0m",
      "\u001b[1;31mValueError\u001b[0m                                Traceback (most recent call last)",
      "Cell \u001b[1;32mIn[19], line 2\u001b[0m\n\u001b[0;32m      1\u001b[0m a  \u001b[38;5;241m=\u001b[39m \u001b[38;5;28mint\u001b[39m(\u001b[38;5;124m'\u001b[39m\u001b[38;5;124m10\u001b[39m\u001b[38;5;124m'\u001b[39m)\n\u001b[1;32m----> 2\u001b[0m b \u001b[38;5;241m=\u001b[39m \u001b[38;5;28;43mint\u001b[39;49m\u001b[43m(\u001b[49m\u001b[38;5;124;43m'\u001b[39;49m\u001b[38;5;124;43mabc\u001b[39;49m\u001b[38;5;124;43m'\u001b[39;49m\u001b[43m)\u001b[49m\n\u001b[0;32m      4\u001b[0m \u001b[38;5;28mprint\u001b[39m(\u001b[38;5;28mtype\u001b[39m(b))\n",
      "\u001b[1;31mValueError\u001b[0m: invalid literal for int() with base 10: 'abc'"
     ]
    }
   ],
   "source": [
    "a  = int('10')\n",
    "b = int('abc')\n",
    " \n",
    "print(type(b))"
   ]
  },
  {
   "cell_type": "code",
   "execution_count": 20,
   "id": "63d46a36",
   "metadata": {},
   "outputs": [
    {
     "name": "stdout",
     "output_type": "stream",
     "text": [
      "60\n"
     ]
    }
   ],
   "source": [
    "# String to integer\n",
    "\n",
    "num_str = \"50\"\n",
    "num = int(num_str)\n",
    "print(num + 10)  # 60"
   ]
  },
  {
   "cell_type": "code",
   "execution_count": 22,
   "id": "515c1eea",
   "metadata": {},
   "outputs": [
    {
     "name": "stdout",
     "output_type": "stream",
     "text": [
      "99\n",
      "<class 'int'>\n"
     ]
    }
   ],
   "source": [
    "# float to int\n",
    "\n",
    "price = 99.99\n",
    "new_price = int(price)\n",
    "print(new_price)  # 99 (decimal part is dropped)\n",
    "print(type(new_price))"
   ]
  },
  {
   "cell_type": "code",
   "execution_count": 23,
   "id": "81a80295",
   "metadata": {},
   "outputs": [
    {
     "name": "stdout",
     "output_type": "stream",
     "text": [
      "{1, 2, 3}\n"
     ]
    }
   ],
   "source": [
    "# List to Set\n",
    "\n",
    "data = [1, 2, 2, 3]\n",
    "unique_data = set(data)\n",
    "print(unique_data)  # {1, 2, 3}"
   ]
  },
  {
   "cell_type": "code",
   "execution_count": 24,
   "id": "a342f204",
   "metadata": {},
   "outputs": [
    {
     "name": "stdout",
     "output_type": "stream",
     "text": [
      "1\n"
     ]
    }
   ],
   "source": [
    "# Bool to Int\n",
    "\n",
    "flag = True\n",
    "print(int(flag))  # 1"
   ]
  },
  {
   "cell_type": "code",
   "execution_count": 25,
   "id": "78cb4f0b",
   "metadata": {},
   "outputs": [
    {
     "ename": "ValueError",
     "evalue": "invalid literal for int() with base 10: 'hello'",
     "output_type": "error",
     "traceback": [
      "\u001b[1;31m---------------------------------------------------------------------------\u001b[0m",
      "\u001b[1;31mValueError\u001b[0m                                Traceback (most recent call last)",
      "Cell \u001b[1;32mIn[25], line 3\u001b[0m\n\u001b[0;32m      1\u001b[0m \u001b[38;5;66;03m# Converting non-numeric strings to int() or float() will cause an error:\u001b[39;00m\n\u001b[1;32m----> 3\u001b[0m \u001b[38;5;28;43mint\u001b[39;49m\u001b[43m(\u001b[49m\u001b[38;5;124;43m\"\u001b[39;49m\u001b[38;5;124;43mhello\u001b[39;49m\u001b[38;5;124;43m\"\u001b[39;49m\u001b[43m)\u001b[49m  \u001b[38;5;66;03m#ValueError\u001b[39;00m\n",
      "\u001b[1;31mValueError\u001b[0m: invalid literal for int() with base 10: 'hello'"
     ]
    }
   ],
   "source": [
    "# Converting non-numeric strings to int() or float() will cause an error:\n",
    "\n",
    "int(\"hello\")  #ValueError"
   ]
  },
  {
   "cell_type": "markdown",
   "id": "3ec5a5ba",
   "metadata": {},
   "source": [
    "# Literals"
   ]
  },
  {
   "cell_type": "markdown",
   "id": "11e18bf7",
   "metadata": {},
   "source": [
    "A literal is a fixed value assigned to a variable or used directly in the code.\n",
    "\n",
    "Literals are raw values like numbers, strings, or boolean values written directly into code."
   ]
  },
  {
   "cell_type": "code",
   "execution_count": null,
   "id": "e87de7c6",
   "metadata": {},
   "outputs": [],
   "source": [
    "x = 10         # 10 is an integer literal\n",
    "name = \"Alice\" # \"Alice\" is a string literal"
   ]
  },
  {
   "cell_type": "markdown",
   "id": "01805a52",
   "metadata": {},
   "source": [
    "Types of Literals in Python:\n",
    "\n",
    "Numeric Literals\n",
    "String Literals\n",
    "Boolean Literals\n",
    "None Literal\n",
    "Collection Literals (List, Tuple, Dict, Set)"
   ]
  },
  {
   "cell_type": "code",
   "execution_count": 26,
   "id": "6809e476",
   "metadata": {},
   "outputs": [
    {
     "name": "stdout",
     "output_type": "stream",
     "text": [
      "100\n",
      "10\n",
      "21\n",
      "26\n"
     ]
    }
   ],
   "source": [
    "# Numeric Literals\n",
    "\n",
    "a = 100           # Decimal\n",
    "b = 0b1010        # Binary\n",
    "c = 0o25          # Octal\n",
    "d = 0x1A          # Hexadecimal\n",
    "\n",
    "print(a)\n",
    "print(b)\n",
    "print(c)\n",
    "print(d)\n"
   ]
  },
  {
   "cell_type": "code",
   "execution_count": null,
   "id": "0088e091",
   "metadata": {},
   "outputs": [],
   "source": [
    "# String Literals\n",
    "\n",
    "name = 'John'\n",
    "greeting = \"Hello!\"\n",
    "multi_line = \"\"\"This is\n",
    "a multi-line\n",
    "string.\"\"\""
   ]
  },
  {
   "cell_type": "code",
   "execution_count": 32,
   "id": "357946b5",
   "metadata": {},
   "outputs": [
    {
     "name": "stdout",
     "output_type": "stream",
     "text": [
      "😀😆🤣\n",
      "raw \\t string\n"
     ]
    }
   ],
   "source": [
    "print(u\"\\U0001f600\\U0001F606\\U0001F923\")\n",
    "print(r\"raw \\t string\")\n"
   ]
  },
  {
   "cell_type": "code",
   "execution_count": 33,
   "id": "ef5cbaaf",
   "metadata": {},
   "outputs": [
    {
     "name": "stdout",
     "output_type": "stream",
     "text": [
      "1\n"
     ]
    }
   ],
   "source": [
    "# Boolean Literals\n",
    "\n",
    "is_active = True\n",
    "is_deleted = False\n",
    "print(True + False)  # 1 (True = 1, False = 0)"
   ]
  },
  {
   "cell_type": "code",
   "execution_count": 34,
   "id": "049be670",
   "metadata": {},
   "outputs": [
    {
     "name": "stdout",
     "output_type": "stream",
     "text": [
      "No result yet.\n"
     ]
    }
   ],
   "source": [
    "# Special Literal – None\n",
    "\n",
    "result = None\n",
    "\n",
    "if result is None:\n",
    "    print(\"No result yet.\")"
   ]
  },
  {
   "cell_type": "markdown",
   "id": "3596d387",
   "metadata": {},
   "source": [
    "None literal Commonly used to:\n",
    "\n",
    "Initialize variables\n",
    "Represent missing data\n",
    "Indicate no return value"
   ]
  },
  {
   "cell_type": "code",
   "execution_count": 36,
   "id": "3584fa7e",
   "metadata": {},
   "outputs": [
    {
     "name": "stdout",
     "output_type": "stream",
     "text": [
      "k = None\n",
      "k = 5\n"
     ]
    }
   ],
   "source": [
    "k = None\n",
    "print('k = None')\n",
    "k = 5\n",
    "print('k =',k)"
   ]
  },
  {
   "cell_type": "code",
   "execution_count": 39,
   "id": "9999b248",
   "metadata": {},
   "outputs": [
    {
     "name": "stdout",
     "output_type": "stream",
     "text": [
      "['apple', 'banana', 'mango']\n",
      "(10, 20)\n",
      "{1, 2, 3}\n",
      "{'name': 'Alice', 'age': 30}\n"
     ]
    }
   ],
   "source": [
    "# Literal Collections\n",
    "\n",
    "fruits = [\"apple\", \"banana\", \"mango\"] # List Literal\n",
    "coordinates = (10, 20)                # Tuple Literal\n",
    "unique_numbers = {1, 2, 3}            # Set Literal\n",
    "person = {\"name\": \"Alice\", \"age\": 30} # Dictionary Literal\n",
    "\n",
    "print(fruits)\n",
    "print(coordinates)\n",
    "print(unique_numbers)\n",
    "print(person)\n"
   ]
  },
  {
   "cell_type": "code",
   "execution_count": null,
   "id": "77149678",
   "metadata": {},
   "outputs": [],
   "source": []
  }
 ],
 "metadata": {
  "kernelspec": {
   "display_name": "myenv",
   "language": "python",
   "name": "python3"
  },
  "language_info": {
   "codemirror_mode": {
    "name": "ipython",
    "version": 3
   },
   "file_extension": ".py",
   "mimetype": "text/x-python",
   "name": "python",
   "nbconvert_exporter": "python",
   "pygments_lexer": "ipython3",
   "version": "3.13.0"
  }
 },
 "nbformat": 4,
 "nbformat_minor": 5
}
