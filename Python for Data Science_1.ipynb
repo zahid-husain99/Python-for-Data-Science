{
 "cells": [
  {
   "cell_type": "markdown",
   "id": "c369e1ff",
   "metadata": {},
   "source": [
    "Python is a high-level, interpreted, and general-purpose programming language. It was created by Guido van Rossum and first released in 1991. Python emphasizes code readability, and its syntax allows programmers to express concepts in fewer lines of code than languages like C++ or Java."
   ]
  },
  {
   "cell_type": "code",
   "execution_count": null,
   "id": "7a018de6",
   "metadata": {},
   "outputs": [],
   "source": []
  }
 ],
 "metadata": {
  "kernelspec": {
   "display_name": "myenv",
   "language": "python",
   "name": "python3"
  },
  "language_info": {
   "codemirror_mode": {
    "name": "ipython",
    "version": 3
   },
   "file_extension": ".py",
   "mimetype": "text/x-python",
   "name": "python",
   "nbconvert_exporter": "python",
   "pygments_lexer": "ipython3",
   "version": "3.13.0"
  }
 },
 "nbformat": 4,
 "nbformat_minor": 5
}
